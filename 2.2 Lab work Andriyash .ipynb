{
 "cells": [
  {
   "cell_type": "markdown",
   "metadata": {},
   "source": [
    "___\n",
    "\n",
    "<a href='https://mainacademy.ua/'> <img src='https://mainacademy.ua/wp-content/uploads/2019/03/logo-main.png' alt = 'Хмм, щось з інтернетом'/></a>\n",
    "___\n",
    "\n",
    "# Module 2: Basic Python"
   ]
  },
  {
   "cell_type": "markdown",
   "metadata": {},
   "source": [
    "## Lab work 2.2\n",
    "\n"
   ]
  },
  {
   "cell_type": "markdown",
   "metadata": {},
   "source": [
    "#### Мета: \n",
    "\n",
    "* навчитися працювати із основними інструкціями Python;\n",
    "* ознайомитися із базовими алгоритмами;"
   ]
  },
  {
   "cell_type": "markdown",
   "metadata": {},
   "source": [
    "### Завдання 1"
   ]
  },
  {
   "cell_type": "markdown",
   "metadata": {},
   "source": [
    "Для трьох введених натуральних чисел (користувач вводить числа через пробіл) знайдіть мінімальне та максимальне"
   ]
  },
  {
   "cell_type": "code",
   "execution_count": null,
   "metadata": {},
   "outputs": [],
   "source": [
    "numbers = input()\n",
    "a = list(numbers.split())\n",
    "print(f'максимальне {max(a)}, мінімальне {min(a)}')"
   ]
  },
  {
   "cell_type": "markdown",
   "metadata": {},
   "source": [
    "### Завдання 2"
   ]
  },
  {
   "cell_type": "markdown",
   "metadata": {},
   "source": [
    "Програма приймає на вхід два параметри: стать спортсмена(`sex = (f, m)`) та вік спортсмена(`age = [0,100]`).  Спортсмен-дівчина може брати участь у змаганні, якщо її вік більший 18, спортсмен-хлопець - якщо вік більший 16\n",
    "\n",
    "Якщо введеніть не коректні дані, виведіть повідомлення про помилку"
   ]
  },
  {
   "cell_type": "code",
   "execution_count": null,
   "metadata": {},
   "outputs": [],
   "source": [
    "sex = input('Введiть стать f або m: ')\n",
    "age = int(input('Введiть кiлькiсть повних рокiв: '))\n",
    "s = ['f', 'm']\n",
    "if sex in s:\n",
    "    if sex == 'f' and age < 18:\n",
    "        print('Ви не досягли вiку') \n",
    "    elif sex =='m' and age < 16:\n",
    "        print('Ви не досягли вiку')\n",
    "    else:\n",
    "        print('Вiтаю')\n",
    "else:\n",
    "    print('Помилка')"
   ]
  },
  {
   "cell_type": "markdown",
   "metadata": {},
   "source": [
    "### Завдання 3"
   ]
  },
  {
   "cell_type": "markdown",
   "metadata": {},
   "source": [
    "Для введеного натурального числа побудуйте драбинку. \n",
    "\n",
    "Наприклад, якщо N = 5, драбинка буде мати вигляд:\n",
    "    \n",
    "&\n",
    "\n",
    "&&\n",
    "\n",
    "&&&\n",
    "\n",
    "&&&&\n",
    "\n",
    "&&&&&"
   ]
  },
  {
   "cell_type": "code",
   "execution_count": null,
   "metadata": {},
   "outputs": [],
   "source": [
    "N = int(input())\n",
    "for i in range(1, N+1):\n",
    "    print()\n",
    "    print('&'*i)\n",
    "   "
   ]
  },
  {
   "cell_type": "markdown",
   "metadata": {},
   "source": [
    "### Завдання 4"
   ]
  },
  {
   "cell_type": "markdown",
   "metadata": {},
   "source": [
    "Із заданого речення виведіть кожне слово і його довжину"
   ]
  },
  {
   "cell_type": "code",
   "execution_count": null,
   "metadata": {},
   "outputs": [],
   "source": [
    "sentence = 'My favourite tutor in academy is Ihor'\n",
    "words = list(sentence.split())\n",
    "for i in range(len(words)):\n",
    "    print(words[i], len(words[i]))\n",
    "\n",
    "\n"
   ]
  },
  {
   "cell_type": "code",
   "execution_count": null,
   "metadata": {
    "scrolled": true
   },
   "outputs": [],
   "source": [
    "sentence = 'My favourite tutor in academy is Ihor'\n",
    "words = list(sentence.split())\n",
    "\n",
    "dict_with_word = {}\n",
    "for w in words:\n",
    "    dict_with_word[w] = len(w)\n",
    "for items in dict_with_word:        \n",
    "    print(items, dict_with_word[items])        "
   ]
  },
  {
   "cell_type": "markdown",
   "metadata": {},
   "source": [
    "### Завдання 5"
   ]
  },
  {
   "cell_type": "markdown",
   "metadata": {},
   "source": [
    "Для заданого тексту реалізуйте:\n",
    "* Знайдіть кількість слів\n",
    "* Знайдіть кількість унікальних слів\n",
    "* Своірть словник, де ключе буде слово із тексту, значенням - частота зустрічання в тексті\n",
    "* Виведіть топ-3 слів, що найчастіше зустрічаються\n",
    "\n",
    "Вважаємо, що слово це стрічка з трьох і більше букв, очищена від знаків пунктуації"
   ]
  },
  {
   "cell_type": "code",
   "execution_count": null,
   "metadata": {},
   "outputs": [],
   "source": [
    "text = \"\"\"До чого ж гарно і весело було в нашому горóді! Ото як вийти з сіней та подивись навколо — геть-чисто все зелене та буйне. А сад було як зацвіте весною! А що робилось на початку літа — огірки цвітуть, гарбузи цвітуть, картопля цвіте. Цвіте малина, смородина, тютюн, квасоля. А соняшника, а маку, буряків, лободи, укропу, моркви! Чого тільки не насадить наша невгамовна мати.\n",
    "\n",
    "— Нічого в світі так я не люблю, як саджати що-небудь у землю, щоб проізростало. Коли вилізає з землі всяка рослиночка, ото мені радість,— любила проказувати вона.\n",
    "\n",
    "Город до того переповнявсь рослинами, що десь серед літа вони вже не вміщалися в ньому. Вони лізли одна на одну, переплітались, душились, дерлися на хлів, на стріху, повзли на тин, а гарбузи звисали з тину прямо на вулицю.\n",
    "\n",
    "А малини — красної, білої! А вишень, а груш солодких, було. як наїсися,— цілий день живіт як бубон.\n",
    "\n",
    "І росло ще, пригадую, багато тютюну, в якому ми, маленькі, ходили, мов у лісі, в якому пізнали перші мозолі на дитячих руках.\n",
    "\n",
    "А вздовж тину, за старою повіткою, росли великі кущі смородини, бузини і ще якихось невідомих рослин. Там неслися кури нишком од матері і різне дрібне птаство. Туди ми рідко лазили. Там було темно навіть удень, і ми боялись гадюки. Хто з нас у дитинстві не боявся гадюки, так за все життя й не побачивши її ніде?\n",
    "\n",
    "Коло хати, що стояла в саду, цвіли квіти, а за хатою, проти сінешніх дверей, коло вишень,— поросла полином стара погребня з одкритою лядою, звідки завжди пахло цвіллю. Там, у льоху, в присмерку плигали жаби. Напевно, там водилися й гадюки.\n",
    "\n",
    "На погребні любив спати дід.\n",
    "\n",
    "У нас був дід дуже схожий на бога. Коли я молився богу, я завжди бачив на покуті портрет діда в старих срібнофольгових шатах, а сам дід лежав на печі і тихо кашляв, слухаючи своїх молитов.\n",
    "\n",
    "У неділю перед богами горіла маленька синенька лампадка, в яку завжди набиралось повно мух. Образ святого Миколая також був схожий на діда, особливо коли дід часом підстригав собі бороду і випивав перед обідом чарку горілки з перцем, і мати не лаялась. Святий Федосій більш скидався на батька. Федосію я не молився, в нього була ще темна борода, а в руці гирлига, одягнена чомусь у білу хустку. А от бог, схожий на діда, той тримав в одній руці круглу сільничку, а трьома пýчками другої неначе збирався взяти зубок часнику\n",
    "Звали нашого діда, як я вже потім довідавсь, Семеном. Він був високий і худий, і чоло в нього високе, хвилясте довге волосся сиве, а борода біла. І була в нього велика грижа ще з молодих чумацьких літ. Пахнув дід теплою землею і трохи млином. Він був письменний по-церковному і в неділю любив урочисто читати псалтир. Ні дід, ні ми не розуміли прочитаного, і це завжди хвилювало нас, як дивна таємниця, що надавала прочитаному особливого, небуденного смислу.\n",
    "\n",
    "Мати ненавиділа діда і вважала його за чорнокнижника. Ми не вірили матері і захищали діда од її нападів, бо псалтир всередині був не чорний, а білий, а товста шкіряна палітурка — коричнева, як гречаний мед чи стара халява. Зрештою, мати крадькома таки знищила псалтир. Вона спалила його в печі по одному листочку, боячись палити зразу весь, щоб він часом не вибухнув і не розніс печі.\n",
    "\n",
    "Любив дід гарну бесіду й добре слово. Часом по дорозі на луг, коли хто питав у нього дорогу на Борзну чи на Батурин, він довго стояв посеред шляху і, махаючи пужалном, гукав услід подорожньому:\n",
    "\n",
    "— Прямо, та й прямо, та й прямо, та й нікуди ж не звертайте!.. Добра людина поїхала, дай їй бог здоров'я,— зітхав він лагідно, коли подорожній нарешті зникав у кущах.\n",
    "\n",
    "— А хто вона, діду, людина ота? Звідки вона?\n",
    "\n",
    "— А бог її знає, хіба я знаю... Ну, чого стоїш як укопаний? — звертався дід до коня, сідаючи на воза.— Но, трогай-бо, ну...\n",
    "\n",
    "Він був наш добрий дух лугу і риби. Гриби й ягоди збирав він у лісі краще за нас усіх і розмовляв з кіньми, з телятами, з травами, з старою грушею і дубом — з усім живим, що росло і рухалось навколо.\n",
    "Більш за все на світі любив дід сонце. Він прожив під сонцем коло ста літ, ніколи не ховаючись у холодок. Так під сонцем на погребні, коло яблуні, він і помер, коли прийшов його час.\n",
    "\n",
    "Дід любив кашляти. Кашляв він часом так довго й гучно, що скільки ми не старалися, ніхто не міг його як слід передражнити. Його кашель чув увесь куток. Старі люди по дідовому кашлю вгадували навіть погоду.\n",
    "\"\"\""
   ]
  },
  {
   "cell_type": "code",
   "execution_count": null,
   "metadata": {},
   "outputs": [],
   "source": [
    "\"\"\"Пстроение нового списка со всеми словами, без знаков пунктуации и слов где меньше 3 символов.\n",
    "Запускать перед следующими функциями обязательно\"\"\"\n",
    "new_text = []\n",
    "punctuation = ['—', '?', '.', '!', '-', ',', ':']\n",
    "\n",
    "for symbol in punctuation:\n",
    "        if symbol in text:\n",
    "            text_new = text.replace(symbol,\"\").lower()\n",
    "            \n",
    "list_with_words = text_new.split()\n",
    "\n",
    "for i in range(len(list_with_words)-1):\n",
    "    if len(list_with_words[i]) >= 3:\n",
    "        new_text.append(list_with_words[i])\n"
   ]
  },
  {
   "cell_type": "code",
   "execution_count": null,
   "metadata": {},
   "outputs": [],
   "source": [
    "print('Кількість слів:', len(new_text))   "
   ]
  },
  {
   "cell_type": "code",
   "execution_count": null,
   "metadata": {},
   "outputs": [],
   "source": [
    "print('Кількість унікальних слів:', len(set(new_text)))"
   ]
  },
  {
   "cell_type": "code",
   "execution_count": null,
   "metadata": {},
   "outputs": [],
   "source": [
    "new_dict_with_word = {}\n",
    "for w in new_text:\n",
    "    new_dict_with_word[w] = new_dict_with_word.get(w,0)+1\n",
    "    \n",
    "   \n",
    "for items in new_dict_with_word:        \n",
    "    print(items, new_dict_with_word[items])"
   ]
  },
  {
   "cell_type": "code",
   "execution_count": null,
   "metadata": {},
   "outputs": [],
   "source": [
    "\n",
    "\n",
    "top = sorted(new_dict_with_word.values(), reverse=True)\n",
    "top_3 = top[:3]\n",
    "\n",
    "list_new=[]\n",
    "for i in top_3:\n",
    "        new = [k for k, v in new_dict_with_word.items() if v in top_3]\n",
    "        \n",
    "for top_word in new:\n",
    "    top = [top_word, new_dict_with_word.get(top_word)]\n",
    "    \n",
    "    print (top)"
   ]
  },
  {
   "cell_type": "markdown",
   "metadata": {},
   "source": [
    "### Завдання 6 "
   ]
  },
  {
   "cell_type": "markdown",
   "metadata": {},
   "source": [
    "Напишіть функції, що:\n",
    "* рохраховує мінімальне та максимальне значення\n",
    "* середнє значення послідовності\n",
    "* медіану послідовності\n",
    "* частоту кожної цифри в послідовності\n",
    "* середнє квадратичне відхилення\n",
    "\n",
    "Послідовність чисел ганеруємо рандомно"
   ]
  },
  {
   "cell_type": "code",
   "execution_count": null,
   "metadata": {},
   "outputs": [],
   "source": [
    "import random\n",
    "\n",
    "#генеруэмо тисячу чисел в діапазоні від 0 до 10\n",
    "list_with_random_numbers = [random.randint(0,100) for i in range(1000)]\n",
    "print(list_with_random_numbers)\n",
    "                  "
   ]
  },
  {
   "cell_type": "code",
   "execution_count": null,
   "metadata": {},
   "outputs": [],
   "source": [
    "def max_():\n",
    "    my_max = sorted(list_with_random_numbers)\n",
    "    my_max[-1]\n",
    "    return my_max[-1]\n",
    "\n",
    "print(max_())\n",
    "\n"
   ]
  },
  {
   "cell_type": "code",
   "execution_count": null,
   "metadata": {},
   "outputs": [],
   "source": [
    "def min_():\n",
    "    my_min = sorted(list_with_random_numbers)\n",
    " \n",
    "    return my_min[0]\n",
    "\n",
    "\n",
    "print(min_())"
   ]
  },
  {
   "cell_type": "code",
   "execution_count": null,
   "metadata": {},
   "outputs": [],
   "source": [
    "def avg_():\n",
    "    my_avg = sum(list_with_random_numbers)/len(list_with_random_numbers)\n",
    "    return my_avg\n",
    "\n",
    "print(avg_())"
   ]
  },
  {
   "cell_type": "code",
   "execution_count": null,
   "metadata": {},
   "outputs": [],
   "source": [
    "def med_():\n",
    "    \n",
    "    data = sorted(list_with_random_numbers)\n",
    "    i = 0\n",
    "    a = 0\n",
    "    b = 0\n",
    "    if len(data) % 2 != 0:\n",
    "        return data[len(data)//2]\n",
    "    else:\n",
    "        a = len(data)//2 - 1\n",
    "        b = len(data)//2 \n",
    "        i = (data[a] + data[b])/2\n",
    "        return i\n",
    "\n",
    "\n",
    "print(med_())"
   ]
  },
  {
   "cell_type": "code",
   "execution_count": null,
   "metadata": {},
   "outputs": [],
   "source": [
    "def freq_():\n",
    "\n",
    "    dict_with_word = {}\n",
    "\n",
    "    for w in list_with_random_numbers:\n",
    "        if w in dict_with_word:\n",
    "            dict_with_word[w] += 1\n",
    "        else:\n",
    "            dict_with_word[w] = 1\n",
    "        \n",
    "\n",
    "    for items in sorted(dict_with_word):        \n",
    "        res = print(items, '-', dict_with_word[items]) \n",
    "    return res\n",
    "\n",
    "print(freq_())"
   ]
  },
  {
   "cell_type": "code",
   "execution_count": null,
   "metadata": {},
   "outputs": [],
   "source": [
    "def std_():\n",
    "\n",
    "    partial_sum_squares = 0\n",
    "\n",
    "    n = len(list_with_random_numbers)\n",
    "    partial_sum = sum (list_with_random_numbers)\n",
    "    for i in list_with_random_numbers: \n",
    "        partial_sum_squares += i**2\n",
    "    res = sqrt((partial_sum_squares - partial_sum ** 2 / n) / (n - 1))\n",
    "    return res\n",
    "\n"
   ]
  },
  {
   "cell_type": "code",
   "execution_count": null,
   "metadata": {},
   "outputs": [],
   "source": [
    "print('минимальное: ', min_())\n",
    "print('максимальное: ', max_())\n",
    "print('Среднее арифметическое: ', avg_())\n",
    "print('медиана: ',med_())\n",
    "print('стандарстное отклонение: ',std_())\n",
    "print('Частота: ',freq_())"
   ]
  },
  {
   "cell_type": "code",
   "execution_count": null,
   "metadata": {},
   "outputs": [],
   "source": []
  }
 ],
 "metadata": {
  "kernelspec": {
   "display_name": "Python 3",
   "language": "python",
   "name": "python3"
  },
  "language_info": {
   "codemirror_mode": {
    "name": "ipython",
    "version": 3
   },
   "file_extension": ".py",
   "mimetype": "text/x-python",
   "name": "python",
   "nbconvert_exporter": "python",
   "pygments_lexer": "ipython3",
   "version": "3.8.3"
  }
 },
 "nbformat": 4,
 "nbformat_minor": 2
}
