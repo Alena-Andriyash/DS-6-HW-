{
 "cells": [
  {
   "cell_type": "markdown",
   "metadata": {},
   "source": [
    "## 1. Markdown cells\n",
    " * _Hi! its Main Academy?_\n",
    " * _All HTML tabs are supported!_\n",
    " * Моя сторiнка на [Лiнкедiн](https://www.linkedin.com/in/alena-andriiash-b6bb2475/)\n",
    " \n",
    " \n",
    " # This is Heading1\n",
    " \n",
    " ## This is Heading1\n",
    " some gray colored text:\n",
    " >This is where re ca bring qoutes and presenr them nicely\n",
    " \n",
    " And this is the paragraph about something very inportant. Even math: $$y_{sub} = \\sqrt{(x_{sub})}$$\n",
    " \n",
    " \n",
    " Or python code example:\n",
    " \n",
    "    import math\n",
    "    def foo():\n",
    "        return \"foo\"\n",
    " \n"
   ]
  },
  {
   "cell_type": "markdown",
   "metadata": {},
   "source": [
    "Here is the sample mean:$$\\bar{y}= \\frac{1}{n}\\sum_{i=1}^{n} y_i$$\n",
    "Here is the sample variance:$$\\sigma^2=\\frac{\\sum_{i=1}^{n} (y_i-\\bar{y})^2}{n-1} $$\n",
    "Here is the sample deviation:$$\\sigma=\\sqrt{\\frac{\\sum_{i=1}^{n} (y_i-\\bar{y})^2}{n-1}}$$\n",
    "\n"
   ]
  },
  {
   "cell_type": "code",
   "execution_count": null,
   "metadata": {},
   "outputs": [],
   "source": []
  }
 ],
 "metadata": {
  "kernelspec": {
   "display_name": "Python 3",
   "language": "python",
   "name": "python3"
  },
  "language_info": {
   "codemirror_mode": {
    "name": "ipython",
    "version": 3
   },
   "file_extension": ".py",
   "mimetype": "text/x-python",
   "name": "python",
   "nbconvert_exporter": "python",
   "pygments_lexer": "ipython3",
   "version": "3.8.3"
  }
 },
 "nbformat": 4,
 "nbformat_minor": 4
}
